{
  "nbformat": 4,
  "nbformat_minor": 0,
  "metadata": {
    "colab": {
      "provenance": [],
      "authorship_tag": "ABX9TyNX//4FNEXlb1ozHg9MC40U",
      "include_colab_link": true
    },
    "kernelspec": {
      "name": "python3",
      "display_name": "Python 3"
    },
    "language_info": {
      "name": "python"
    }
  },
  "cells": [
    {
      "cell_type": "markdown",
      "metadata": {
        "id": "view-in-github",
        "colab_type": "text"
      },
      "source": [
        "<a href=\"https://colab.research.google.com/github/Madhu-T18/BREAST-CANCER-DETECTION/blob/main/breast_cancer_detection.ipynb\" target=\"_parent\"><img src=\"https://colab.research.google.com/assets/colab-badge.svg\" alt=\"Open In Colab\"/></a>"
      ]
    },
    {
      "cell_type": "code",
      "execution_count": null,
      "metadata": {
        "colab": {
          "base_uri": "https://localhost:8080/",
          "height": 464
        },
        "id": "X7ispTTbny_i",
        "outputId": "0851f72c-4bc9-40a2-dcba-e0befaeddfcd"
      },
      "outputs": [
        {
          "output_type": "stream",
          "name": "stdout",
          "text": [
            "Shape of X: (569, 32)\n",
            "Columns: Index(['id', 'diagnosis', 'radius_mean', 'texture_mean', 'perimeter_mean',\n",
            "       'area_mean', 'smoothness_mean', 'compactness_mean', 'concavity_mean',\n",
            "       'concave points_mean', 'symmetry_mean', 'fractal_dimension_mean',\n",
            "       'radius_se', 'texture_se', 'perimeter_se', 'area_se', 'smoothness_se',\n",
            "       'compactness_se', 'concavity_se', 'concave points_se', 'symmetry_se',\n",
            "       'fractal_dimension_se', 'radius_worst', 'texture_worst',\n",
            "       'perimeter_worst', 'area_worst', 'smoothness_worst',\n",
            "       'compactness_worst', 'concavity_worst', 'concave points_worst',\n",
            "       'symmetry_worst', 'fractal_dimension_worst'],\n",
            "      dtype='object')\n"
          ]
        },
        {
          "output_type": "execute_result",
          "data": {
            "text/plain": [
              "         id diagnosis  radius_mean  texture_mean  perimeter_mean  area_mean  \\\n",
              "0    842302         M        17.99         10.38          122.80     1001.0   \n",
              "1    842517         M        20.57         17.77          132.90     1326.0   \n",
              "2  84300903         M        19.69         21.25          130.00     1203.0   \n",
              "3  84348301         M        11.42         20.38           77.58      386.1   \n",
              "4  84358402         M        20.29         14.34          135.10     1297.0   \n",
              "\n",
              "   smoothness_mean  compactness_mean  concavity_mean  concave points_mean  \\\n",
              "0          0.11840           0.27760          0.3001              0.14710   \n",
              "1          0.08474           0.07864          0.0869              0.07017   \n",
              "2          0.10960           0.15990          0.1974              0.12790   \n",
              "3          0.14250           0.28390          0.2414              0.10520   \n",
              "4          0.10030           0.13280          0.1980              0.10430   \n",
              "\n",
              "   ...  radius_worst  texture_worst  perimeter_worst  area_worst  \\\n",
              "0  ...         25.38          17.33           184.60      2019.0   \n",
              "1  ...         24.99          23.41           158.80      1956.0   \n",
              "2  ...         23.57          25.53           152.50      1709.0   \n",
              "3  ...         14.91          26.50            98.87       567.7   \n",
              "4  ...         22.54          16.67           152.20      1575.0   \n",
              "\n",
              "   smoothness_worst  compactness_worst  concavity_worst  concave points_worst  \\\n",
              "0            0.1622             0.6656           0.7119                0.2654   \n",
              "1            0.1238             0.1866           0.2416                0.1860   \n",
              "2            0.1444             0.4245           0.4504                0.2430   \n",
              "3            0.2098             0.8663           0.6869                0.2575   \n",
              "4            0.1374             0.2050           0.4000                0.1625   \n",
              "\n",
              "   symmetry_worst  fractal_dimension_worst  \n",
              "0          0.4601                  0.11890  \n",
              "1          0.2750                  0.08902  \n",
              "2          0.3613                  0.08758  \n",
              "3          0.6638                  0.17300  \n",
              "4          0.2364                  0.07678  \n",
              "\n",
              "[5 rows x 32 columns]"
            ],
            "text/html": [
              "\n",
              "  <div id=\"df-bb98c207-e2fc-401e-9956-0524c9943501\" class=\"colab-df-container\">\n",
              "    <div>\n",
              "<style scoped>\n",
              "    .dataframe tbody tr th:only-of-type {\n",
              "        vertical-align: middle;\n",
              "    }\n",
              "\n",
              "    .dataframe tbody tr th {\n",
              "        vertical-align: top;\n",
              "    }\n",
              "\n",
              "    .dataframe thead th {\n",
              "        text-align: right;\n",
              "    }\n",
              "</style>\n",
              "<table border=\"1\" class=\"dataframe\">\n",
              "  <thead>\n",
              "    <tr style=\"text-align: right;\">\n",
              "      <th></th>\n",
              "      <th>id</th>\n",
              "      <th>diagnosis</th>\n",
              "      <th>radius_mean</th>\n",
              "      <th>texture_mean</th>\n",
              "      <th>perimeter_mean</th>\n",
              "      <th>area_mean</th>\n",
              "      <th>smoothness_mean</th>\n",
              "      <th>compactness_mean</th>\n",
              "      <th>concavity_mean</th>\n",
              "      <th>concave points_mean</th>\n",
              "      <th>...</th>\n",
              "      <th>radius_worst</th>\n",
              "      <th>texture_worst</th>\n",
              "      <th>perimeter_worst</th>\n",
              "      <th>area_worst</th>\n",
              "      <th>smoothness_worst</th>\n",
              "      <th>compactness_worst</th>\n",
              "      <th>concavity_worst</th>\n",
              "      <th>concave points_worst</th>\n",
              "      <th>symmetry_worst</th>\n",
              "      <th>fractal_dimension_worst</th>\n",
              "    </tr>\n",
              "  </thead>\n",
              "  <tbody>\n",
              "    <tr>\n",
              "      <th>0</th>\n",
              "      <td>842302</td>\n",
              "      <td>M</td>\n",
              "      <td>17.99</td>\n",
              "      <td>10.38</td>\n",
              "      <td>122.80</td>\n",
              "      <td>1001.0</td>\n",
              "      <td>0.11840</td>\n",
              "      <td>0.27760</td>\n",
              "      <td>0.3001</td>\n",
              "      <td>0.14710</td>\n",
              "      <td>...</td>\n",
              "      <td>25.38</td>\n",
              "      <td>17.33</td>\n",
              "      <td>184.60</td>\n",
              "      <td>2019.0</td>\n",
              "      <td>0.1622</td>\n",
              "      <td>0.6656</td>\n",
              "      <td>0.7119</td>\n",
              "      <td>0.2654</td>\n",
              "      <td>0.4601</td>\n",
              "      <td>0.11890</td>\n",
              "    </tr>\n",
              "    <tr>\n",
              "      <th>1</th>\n",
              "      <td>842517</td>\n",
              "      <td>M</td>\n",
              "      <td>20.57</td>\n",
              "      <td>17.77</td>\n",
              "      <td>132.90</td>\n",
              "      <td>1326.0</td>\n",
              "      <td>0.08474</td>\n",
              "      <td>0.07864</td>\n",
              "      <td>0.0869</td>\n",
              "      <td>0.07017</td>\n",
              "      <td>...</td>\n",
              "      <td>24.99</td>\n",
              "      <td>23.41</td>\n",
              "      <td>158.80</td>\n",
              "      <td>1956.0</td>\n",
              "      <td>0.1238</td>\n",
              "      <td>0.1866</td>\n",
              "      <td>0.2416</td>\n",
              "      <td>0.1860</td>\n",
              "      <td>0.2750</td>\n",
              "      <td>0.08902</td>\n",
              "    </tr>\n",
              "    <tr>\n",
              "      <th>2</th>\n",
              "      <td>84300903</td>\n",
              "      <td>M</td>\n",
              "      <td>19.69</td>\n",
              "      <td>21.25</td>\n",
              "      <td>130.00</td>\n",
              "      <td>1203.0</td>\n",
              "      <td>0.10960</td>\n",
              "      <td>0.15990</td>\n",
              "      <td>0.1974</td>\n",
              "      <td>0.12790</td>\n",
              "      <td>...</td>\n",
              "      <td>23.57</td>\n",
              "      <td>25.53</td>\n",
              "      <td>152.50</td>\n",
              "      <td>1709.0</td>\n",
              "      <td>0.1444</td>\n",
              "      <td>0.4245</td>\n",
              "      <td>0.4504</td>\n",
              "      <td>0.2430</td>\n",
              "      <td>0.3613</td>\n",
              "      <td>0.08758</td>\n",
              "    </tr>\n",
              "    <tr>\n",
              "      <th>3</th>\n",
              "      <td>84348301</td>\n",
              "      <td>M</td>\n",
              "      <td>11.42</td>\n",
              "      <td>20.38</td>\n",
              "      <td>77.58</td>\n",
              "      <td>386.1</td>\n",
              "      <td>0.14250</td>\n",
              "      <td>0.28390</td>\n",
              "      <td>0.2414</td>\n",
              "      <td>0.10520</td>\n",
              "      <td>...</td>\n",
              "      <td>14.91</td>\n",
              "      <td>26.50</td>\n",
              "      <td>98.87</td>\n",
              "      <td>567.7</td>\n",
              "      <td>0.2098</td>\n",
              "      <td>0.8663</td>\n",
              "      <td>0.6869</td>\n",
              "      <td>0.2575</td>\n",
              "      <td>0.6638</td>\n",
              "      <td>0.17300</td>\n",
              "    </tr>\n",
              "    <tr>\n",
              "      <th>4</th>\n",
              "      <td>84358402</td>\n",
              "      <td>M</td>\n",
              "      <td>20.29</td>\n",
              "      <td>14.34</td>\n",
              "      <td>135.10</td>\n",
              "      <td>1297.0</td>\n",
              "      <td>0.10030</td>\n",
              "      <td>0.13280</td>\n",
              "      <td>0.1980</td>\n",
              "      <td>0.10430</td>\n",
              "      <td>...</td>\n",
              "      <td>22.54</td>\n",
              "      <td>16.67</td>\n",
              "      <td>152.20</td>\n",
              "      <td>1575.0</td>\n",
              "      <td>0.1374</td>\n",
              "      <td>0.2050</td>\n",
              "      <td>0.4000</td>\n",
              "      <td>0.1625</td>\n",
              "      <td>0.2364</td>\n",
              "      <td>0.07678</td>\n",
              "    </tr>\n",
              "  </tbody>\n",
              "</table>\n",
              "<p>5 rows × 32 columns</p>\n",
              "</div>\n",
              "    <div class=\"colab-df-buttons\">\n",
              "\n",
              "  <div class=\"colab-df-container\">\n",
              "    <button class=\"colab-df-convert\" onclick=\"convertToInteractive('df-bb98c207-e2fc-401e-9956-0524c9943501')\"\n",
              "            title=\"Convert this dataframe to an interactive table.\"\n",
              "            style=\"display:none;\">\n",
              "\n",
              "  <svg xmlns=\"http://www.w3.org/2000/svg\" height=\"24px\" viewBox=\"0 -960 960 960\">\n",
              "    <path d=\"M120-120v-720h720v720H120Zm60-500h600v-160H180v160Zm220 220h160v-160H400v160Zm0 220h160v-160H400v160ZM180-400h160v-160H180v160Zm440 0h160v-160H620v160ZM180-180h160v-160H180v160Zm440 0h160v-160H620v160Z\"/>\n",
              "  </svg>\n",
              "    </button>\n",
              "\n",
              "  <style>\n",
              "    .colab-df-container {\n",
              "      display:flex;\n",
              "      gap: 12px;\n",
              "    }\n",
              "\n",
              "    .colab-df-convert {\n",
              "      background-color: #E8F0FE;\n",
              "      border: none;\n",
              "      border-radius: 50%;\n",
              "      cursor: pointer;\n",
              "      display: none;\n",
              "      fill: #1967D2;\n",
              "      height: 32px;\n",
              "      padding: 0 0 0 0;\n",
              "      width: 32px;\n",
              "    }\n",
              "\n",
              "    .colab-df-convert:hover {\n",
              "      background-color: #E2EBFA;\n",
              "      box-shadow: 0px 1px 2px rgba(60, 64, 67, 0.3), 0px 1px 3px 1px rgba(60, 64, 67, 0.15);\n",
              "      fill: #174EA6;\n",
              "    }\n",
              "\n",
              "    .colab-df-buttons div {\n",
              "      margin-bottom: 4px;\n",
              "    }\n",
              "\n",
              "    [theme=dark] .colab-df-convert {\n",
              "      background-color: #3B4455;\n",
              "      fill: #D2E3FC;\n",
              "    }\n",
              "\n",
              "    [theme=dark] .colab-df-convert:hover {\n",
              "      background-color: #434B5C;\n",
              "      box-shadow: 0px 1px 3px 1px rgba(0, 0, 0, 0.15);\n",
              "      filter: drop-shadow(0px 1px 2px rgba(0, 0, 0, 0.3));\n",
              "      fill: #FFFFFF;\n",
              "    }\n",
              "  </style>\n",
              "\n",
              "    <script>\n",
              "      const buttonEl =\n",
              "        document.querySelector('#df-bb98c207-e2fc-401e-9956-0524c9943501 button.colab-df-convert');\n",
              "      buttonEl.style.display =\n",
              "        google.colab.kernel.accessAllowed ? 'block' : 'none';\n",
              "\n",
              "      async function convertToInteractive(key) {\n",
              "        const element = document.querySelector('#df-bb98c207-e2fc-401e-9956-0524c9943501');\n",
              "        const dataTable =\n",
              "          await google.colab.kernel.invokeFunction('convertToInteractive',\n",
              "                                                    [key], {});\n",
              "        if (!dataTable) return;\n",
              "\n",
              "        const docLinkHtml = 'Like what you see? Visit the ' +\n",
              "          '<a target=\"_blank\" href=https://colab.research.google.com/notebooks/data_table.ipynb>data table notebook</a>'\n",
              "          + ' to learn more about interactive tables.';\n",
              "        element.innerHTML = '';\n",
              "        dataTable['output_type'] = 'display_data';\n",
              "        await google.colab.output.renderOutput(dataTable, element);\n",
              "        const docLink = document.createElement('div');\n",
              "        docLink.innerHTML = docLinkHtml;\n",
              "        element.appendChild(docLink);\n",
              "      }\n",
              "    </script>\n",
              "  </div>\n",
              "\n",
              "\n",
              "    <div id=\"df-e2bc91d2-6682-4ed6-9ae8-c8a3a82dd70d\">\n",
              "      <button class=\"colab-df-quickchart\" onclick=\"quickchart('df-e2bc91d2-6682-4ed6-9ae8-c8a3a82dd70d')\"\n",
              "                title=\"Suggest charts\"\n",
              "                style=\"display:none;\">\n",
              "\n",
              "<svg xmlns=\"http://www.w3.org/2000/svg\" height=\"24px\"viewBox=\"0 0 24 24\"\n",
              "     width=\"24px\">\n",
              "    <g>\n",
              "        <path d=\"M19 3H5c-1.1 0-2 .9-2 2v14c0 1.1.9 2 2 2h14c1.1 0 2-.9 2-2V5c0-1.1-.9-2-2-2zM9 17H7v-7h2v7zm4 0h-2V7h2v10zm4 0h-2v-4h2v4z\"/>\n",
              "    </g>\n",
              "</svg>\n",
              "      </button>\n",
              "\n",
              "<style>\n",
              "  .colab-df-quickchart {\n",
              "      --bg-color: #E8F0FE;\n",
              "      --fill-color: #1967D2;\n",
              "      --hover-bg-color: #E2EBFA;\n",
              "      --hover-fill-color: #174EA6;\n",
              "      --disabled-fill-color: #AAA;\n",
              "      --disabled-bg-color: #DDD;\n",
              "  }\n",
              "\n",
              "  [theme=dark] .colab-df-quickchart {\n",
              "      --bg-color: #3B4455;\n",
              "      --fill-color: #D2E3FC;\n",
              "      --hover-bg-color: #434B5C;\n",
              "      --hover-fill-color: #FFFFFF;\n",
              "      --disabled-bg-color: #3B4455;\n",
              "      --disabled-fill-color: #666;\n",
              "  }\n",
              "\n",
              "  .colab-df-quickchart {\n",
              "    background-color: var(--bg-color);\n",
              "    border: none;\n",
              "    border-radius: 50%;\n",
              "    cursor: pointer;\n",
              "    display: none;\n",
              "    fill: var(--fill-color);\n",
              "    height: 32px;\n",
              "    padding: 0;\n",
              "    width: 32px;\n",
              "  }\n",
              "\n",
              "  .colab-df-quickchart:hover {\n",
              "    background-color: var(--hover-bg-color);\n",
              "    box-shadow: 0 1px 2px rgba(60, 64, 67, 0.3), 0 1px 3px 1px rgba(60, 64, 67, 0.15);\n",
              "    fill: var(--button-hover-fill-color);\n",
              "  }\n",
              "\n",
              "  .colab-df-quickchart-complete:disabled,\n",
              "  .colab-df-quickchart-complete:disabled:hover {\n",
              "    background-color: var(--disabled-bg-color);\n",
              "    fill: var(--disabled-fill-color);\n",
              "    box-shadow: none;\n",
              "  }\n",
              "\n",
              "  .colab-df-spinner {\n",
              "    border: 2px solid var(--fill-color);\n",
              "    border-color: transparent;\n",
              "    border-bottom-color: var(--fill-color);\n",
              "    animation:\n",
              "      spin 1s steps(1) infinite;\n",
              "  }\n",
              "\n",
              "  @keyframes spin {\n",
              "    0% {\n",
              "      border-color: transparent;\n",
              "      border-bottom-color: var(--fill-color);\n",
              "      border-left-color: var(--fill-color);\n",
              "    }\n",
              "    20% {\n",
              "      border-color: transparent;\n",
              "      border-left-color: var(--fill-color);\n",
              "      border-top-color: var(--fill-color);\n",
              "    }\n",
              "    30% {\n",
              "      border-color: transparent;\n",
              "      border-left-color: var(--fill-color);\n",
              "      border-top-color: var(--fill-color);\n",
              "      border-right-color: var(--fill-color);\n",
              "    }\n",
              "    40% {\n",
              "      border-color: transparent;\n",
              "      border-right-color: var(--fill-color);\n",
              "      border-top-color: var(--fill-color);\n",
              "    }\n",
              "    60% {\n",
              "      border-color: transparent;\n",
              "      border-right-color: var(--fill-color);\n",
              "    }\n",
              "    80% {\n",
              "      border-color: transparent;\n",
              "      border-right-color: var(--fill-color);\n",
              "      border-bottom-color: var(--fill-color);\n",
              "    }\n",
              "    90% {\n",
              "      border-color: transparent;\n",
              "      border-bottom-color: var(--fill-color);\n",
              "    }\n",
              "  }\n",
              "</style>\n",
              "\n",
              "      <script>\n",
              "        async function quickchart(key) {\n",
              "          const quickchartButtonEl =\n",
              "            document.querySelector('#' + key + ' button');\n",
              "          quickchartButtonEl.disabled = true;  // To prevent multiple clicks.\n",
              "          quickchartButtonEl.classList.add('colab-df-spinner');\n",
              "          try {\n",
              "            const charts = await google.colab.kernel.invokeFunction(\n",
              "                'suggestCharts', [key], {});\n",
              "          } catch (error) {\n",
              "            console.error('Error during call to suggestCharts:', error);\n",
              "          }\n",
              "          quickchartButtonEl.classList.remove('colab-df-spinner');\n",
              "          quickchartButtonEl.classList.add('colab-df-quickchart-complete');\n",
              "        }\n",
              "        (() => {\n",
              "          let quickchartButtonEl =\n",
              "            document.querySelector('#df-e2bc91d2-6682-4ed6-9ae8-c8a3a82dd70d button');\n",
              "          quickchartButtonEl.style.display =\n",
              "            google.colab.kernel.accessAllowed ? 'block' : 'none';\n",
              "        })();\n",
              "      </script>\n",
              "    </div>\n",
              "\n",
              "    </div>\n",
              "  </div>\n"
            ],
            "application/vnd.google.colaboratory.intrinsic+json": {
              "type": "dataframe",
              "variable_name": "X"
            }
          },
          "metadata": {},
          "execution_count": 1
        }
      ],
      "source": [
        "from sklearn.datasets import load_breast_cancer\n",
        "import pandas as pd\n",
        "\n",
        "\n",
        "X = pd.read_csv('/content/breast-cancer.csv')\n",
        "\n",
        "print(\"Shape of X:\", X.shape)\n",
        "print(\"Columns:\", X.columns)\n",
        "X.head()"
      ]
    },
    {
      "cell_type": "code",
      "source": [
        "from sklearn.model_selection import train_test_split\n",
        "\n",
        "X_train, X_test, y_train, y_test = train_test_split(\n",
        "    X, y, test_size=0.2, random_state=42\n",
        ")\n"
      ],
      "metadata": {
        "id": "QSjtDJ6oo0PB"
      },
      "execution_count": null,
      "outputs": []
    },
    {
      "cell_type": "code",
      "source": [
        "from sklearn.preprocessing import StandardScaler\n",
        "\n",
        "scaler = StandardScaler()\n",
        "X_train = scaler.fit_transform(X_train)\n",
        "X_test = scaler.transform(X_test)\n"
      ],
      "metadata": {
        "id": "0nW9sRV0pMnD"
      },
      "execution_count": null,
      "outputs": []
    },
    {
      "cell_type": "code",
      "source": [
        "from sklearn.linear_model import LogisticRegression\n",
        "from sklearn.metrics import classification_report\n",
        "\n",
        "lr = LogisticRegression(max_iter=5000)\n",
        "lr.fit(X_train, y_train)\n",
        "y_pred = lr.predict(X_test)\n",
        "print(\"Logistic Regression:\\n\", classification_report(y_test, y_pred))\n"
      ],
      "metadata": {
        "colab": {
          "base_uri": "https://localhost:8080/"
        },
        "id": "A_P1aN1ypSZc",
        "outputId": "ed79e314-15cd-45c2-9be6-ea098eaccf13"
      },
      "execution_count": null,
      "outputs": [
        {
          "output_type": "stream",
          "name": "stdout",
          "text": [
            "Logistic Regression:\n",
            "               precision    recall  f1-score   support\n",
            "\n",
            "           B       0.97      0.99      0.98        71\n",
            "           M       0.98      0.95      0.96        43\n",
            "\n",
            "    accuracy                           0.97       114\n",
            "   macro avg       0.97      0.97      0.97       114\n",
            "weighted avg       0.97      0.97      0.97       114\n",
            "\n"
          ]
        }
      ]
    },
    {
      "cell_type": "code",
      "source": [
        "from sklearn.neighbors import KNeighborsClassifier\n",
        "\n",
        "knn = KNeighborsClassifier(n_neighbors=5)\n",
        "knn.fit(X_train, y_train)\n",
        "y_pred = knn.predict(X_test)\n",
        "print(\"KNN:\\n\", classification_report(y_test, y_pred))\n"
      ],
      "metadata": {
        "colab": {
          "base_uri": "https://localhost:8080/"
        },
        "id": "bnpdqvjFpYCm",
        "outputId": "56f3909b-82e9-4df5-d81f-aa9e7dc19424"
      },
      "execution_count": null,
      "outputs": [
        {
          "output_type": "stream",
          "name": "stdout",
          "text": [
            "KNN:\n",
            "               precision    recall  f1-score   support\n",
            "\n",
            "           B       0.96      0.96      0.96        71\n",
            "           M       0.93      0.93      0.93        43\n",
            "\n",
            "    accuracy                           0.95       114\n",
            "   macro avg       0.94      0.94      0.94       114\n",
            "weighted avg       0.95      0.95      0.95       114\n",
            "\n"
          ]
        }
      ]
    },
    {
      "cell_type": "code",
      "source": [
        "from sklearn.svm import SVC\n",
        "\n",
        "svm = SVC(kernel='linear')\n",
        "svm.fit(X_train, y_train)\n",
        "y_pred = svm.predict(X_test)\n",
        "print(\"SVM:\\n\", classification_report(y_test, y_pred))\n"
      ],
      "metadata": {
        "colab": {
          "base_uri": "https://localhost:8080/"
        },
        "id": "He4nESf5paxV",
        "outputId": "d34670c0-b0c2-409e-9571-325b5296378d"
      },
      "execution_count": null,
      "outputs": [
        {
          "output_type": "stream",
          "name": "stdout",
          "text": [
            "SVM:\n",
            "               precision    recall  f1-score   support\n",
            "\n",
            "           B       0.97      0.96      0.96        71\n",
            "           M       0.93      0.95      0.94        43\n",
            "\n",
            "    accuracy                           0.96       114\n",
            "   macro avg       0.95      0.96      0.95       114\n",
            "weighted avg       0.96      0.96      0.96       114\n",
            "\n"
          ]
        }
      ]
    },
    {
      "cell_type": "code",
      "source": [
        "from sklearn.tree import DecisionTreeClassifier\n",
        "\n",
        "dt = DecisionTreeClassifier(random_state=42)\n",
        "dt.fit(X_train, y_train)\n",
        "y_pred = dt.predict(X_test)\n",
        "print(\"Decision Tree:\\n\", classification_report(y_test, y_pred))\n"
      ],
      "metadata": {
        "colab": {
          "base_uri": "https://localhost:8080/"
        },
        "id": "tAP5TdSHpdhx",
        "outputId": "caecddcd-bd8b-43bb-cc53-4fb285a9eccb"
      },
      "execution_count": null,
      "outputs": [
        {
          "output_type": "stream",
          "name": "stdout",
          "text": [
            "Decision Tree:\n",
            "               precision    recall  f1-score   support\n",
            "\n",
            "           B       0.96      0.94      0.95        71\n",
            "           M       0.91      0.93      0.92        43\n",
            "\n",
            "    accuracy                           0.94       114\n",
            "   macro avg       0.93      0.94      0.93       114\n",
            "weighted avg       0.94      0.94      0.94       114\n",
            "\n"
          ]
        }
      ]
    },
    {
      "cell_type": "code",
      "source": [
        "from sklearn.metrics import accuracy_score, confusion_matrix\n",
        "\n",
        "for model, name in [(lr,\"LogReg\"), (knn,\"KNN\"), (svm,\"SVM\"), (dt,\"Decision Tree\"), (rf,\"Random Forest\")]:\n",
        "    y_pred = model.predict(X_test)\n",
        "    print(f\"{name} Accuracy: {accuracy_score(y_test, y_pred):.4f}\")\n",
        "    print(\"Confusion Matrix:\\n\", confusion_matrix(y_test, y_pred), \"\\n\")\n"
      ],
      "metadata": {
        "colab": {
          "base_uri": "https://localhost:8080/"
        },
        "id": "O3Vuch4bpgXP",
        "outputId": "a74183de-bcf0-4275-a0db-b3fa377b3f5b"
      },
      "execution_count": null,
      "outputs": [
        {
          "output_type": "stream",
          "name": "stdout",
          "text": [
            "LogReg Accuracy: 0.9737\n",
            "Confusion Matrix:\n",
            " [[70  1]\n",
            " [ 2 41]] \n",
            "\n",
            "KNN Accuracy: 0.9474\n",
            "Confusion Matrix:\n",
            " [[68  3]\n",
            " [ 3 40]] \n",
            "\n",
            "SVM Accuracy: 0.9561\n",
            "Confusion Matrix:\n",
            " [[68  3]\n",
            " [ 2 41]] \n",
            "\n",
            "Decision Tree Accuracy: 0.9386\n",
            "Confusion Matrix:\n",
            " [[67  4]\n",
            " [ 3 40]] \n",
            "\n",
            "Random Forest Accuracy: 0.9649\n",
            "Confusion Matrix:\n",
            " [[70  1]\n",
            " [ 3 40]] \n",
            "\n"
          ]
        }
      ]
    },
    {
      "cell_type": "code",
      "source": [
        "\n",
        "y_pred = rf.predict(X_test)\n",
        "\n",
        "print(\"Predicted values:\", y_pred[:10])\n",
        "print(\"Actual values:   \", y_test[:10].values)\n"
      ],
      "metadata": {
        "colab": {
          "base_uri": "https://localhost:8080/"
        },
        "id": "f6uOK1cEqWSu",
        "outputId": "87324bc8-6865-429b-982d-a810ab0de135"
      },
      "execution_count": null,
      "outputs": [
        {
          "output_type": "stream",
          "name": "stdout",
          "text": [
            "Predicted values: ['M' 'M' 'M' 'M' 'M' 'M' 'M' 'M' 'M' 'M']\n",
            "Actual values:    ['B' 'M' 'M' 'B' 'B' 'M' 'M' 'M' 'B' 'B']\n"
          ]
        },
        {
          "output_type": "stream",
          "name": "stderr",
          "text": [
            "/usr/local/lib/python3.12/dist-packages/sklearn/utils/validation.py:2732: UserWarning: X has feature names, but RandomForestClassifier was fitted without feature names\n",
            "  warnings.warn(\n"
          ]
        }
      ]
    },
    {
      "cell_type": "code",
      "source": [
        "import numpy as np\n",
        "\n",
        "sample = X_test.iloc[0].values.reshape(1, -1)\n",
        "\n",
        "prediction = rf.predict(sample)\n",
        "print(\"Prediction:\", prediction)\n",
        "\n",
        "if prediction[0] == 'M':\n",
        "    print(\"⚠️ The model predicts: Malignant (Cancer)\")\n",
        "else:\n",
        "    print(\"✅ The model predicts: Benign (Non-cancer)\")"
      ],
      "metadata": {
        "colab": {
          "base_uri": "https://localhost:8080/"
        },
        "id": "LYEetuYnqYp8",
        "outputId": "a3ca3be0-6ecd-4df3-a59d-313a1bf43e4d"
      },
      "execution_count": null,
      "outputs": [
        {
          "output_type": "stream",
          "name": "stdout",
          "text": [
            "Prediction: ['M']\n",
            "⚠️ The model predicts: Malignant (Cancer)\n"
          ]
        }
      ]
    },
    {
      "cell_type": "code",
      "source": [
        "import numpy as np\n",
        "\n",
        "new_input = np.array([17.99, 10.38, 122.8, 1001.0, 0.1184, 0.2776, 0.3001,\n",
        "                      0.1471, 0.2419, 0.07871, 1.095, 0.9053, 8.589, 153.4,\n",
        "                      0.006399, 0.04904, 0.05373, 0.01587, 0.03003, 0.006193,\n",
        "                      25.38, 17.33, 184.6, 2019.0, 0.1622, 0.6656, 0.7119,\n",
        "                      0.2654, 0.4601, 0.1189])\n",
        "\n",
        "\n",
        "new_input = new_input.reshape(1, -1)\n",
        "\n",
        "\n",
        "new_input_scaled = scaler.transform(new_input)\n",
        "\n",
        "\n",
        "prediction = rf.predict(new_input_scaled)\n",
        "probability = rf.predict_proba(new_input_scaled)\n",
        "\n",
        "print(\"Prediction:\", prediction)\n",
        "print(\"Probability:\", probability)\n",
        "\n",
        "if prediction[0] == 0:\n",
        "    print(\"⚠️ Model Prediction: Malignant (Cancer)\")\n",
        "else:\n",
        "    print(\"✅ Model Prediction: Benign (Non-Cancer)\")\n"
      ],
      "metadata": {
        "colab": {
          "base_uri": "https://localhost:8080/"
        },
        "id": "4pLf8H7JrDNq",
        "outputId": "2b66fe21-877d-4c28-d19f-04a016e931dd"
      },
      "execution_count": null,
      "outputs": [
        {
          "output_type": "stream",
          "name": "stdout",
          "text": [
            "Prediction: ['M']\n",
            "Probability: [[0.03 0.97]]\n",
            "⚠️ Model Prediction: Malignant (Cancer)\n"
          ]
        },
        {
          "output_type": "stream",
          "name": "stderr",
          "text": [
            "/usr/local/lib/python3.12/dist-packages/sklearn/utils/validation.py:2739: UserWarning: X does not have valid feature names, but StandardScaler was fitted with feature names\n",
            "  warnings.warn(\n"
          ]
        }
      ]
    },
    {
      "cell_type": "code",
      "source": [
        "from sklearn.metrics import roc_curve, auc\n",
        "import matplotlib.pyplot as plt\n",
        "import numpy as np\n",
        "y_test_numeric = y_test.apply(lambda x: 1 if x == 'M' else 0)\n",
        "\n",
        "y_prob = rf.predict_proba(X_test)[:,1]\n",
        "\n",
        "fpr, tpr, _ = roc_curve(y_test_numeric, y_prob)\n",
        "roc_auc = auc(fpr, tpr)\n",
        "\n",
        "plt.figure(figsize=(6,4))\n",
        "plt.plot(fpr, tpr, color=\"blue\", lw=2, label=\"ROC curve (AUC = %0.2f)\" % roc_auc)\n",
        "plt.plot([0,1], [0,1], color=\"red\", lw=2, linestyle=\"--\")\n",
        "plt.xlabel(\"False Positive Rate\")\n",
        "plt.ylabel(\"True Positive Rate\")\n",
        "plt.title(\"ROC Curve\")\n",
        "plt.legend(loc=\"lower right\")\n",
        "plt.show()"
      ],
      "metadata": {
        "colab": {
          "base_uri": "https://localhost:8080/",
          "height": 465
        },
        "id": "O1Qc_GiCrKgW",
        "outputId": "87c00ff6-2b10-4b35-bd31-c1323a787a5c"
      },
      "execution_count": null,
      "outputs": [
        {
          "output_type": "stream",
          "name": "stderr",
          "text": [
            "/usr/local/lib/python3.12/dist-packages/sklearn/utils/validation.py:2732: UserWarning: X has feature names, but RandomForestClassifier was fitted without feature names\n",
            "  warnings.warn(\n"
          ]
        },
        {
          "output_type": "display_data",
          "data": {
            "text/plain": [
              "<Figure size 600x400 with 1 Axes>"
            ],
            "image/png": "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\n"
          },
          "metadata": {}
        }
      ]
    },
    {
      "cell_type": "code",
      "source": [
        "import matplotlib.pyplot as plt\n",
        "import seaborn as sns\n",
        "from sklearn.metrics import confusion_matrix\n",
        "\n",
        "y_pred = rf.predict(X_test)\n",
        "\n",
        "\n",
        "cm = confusion_matrix(y_test, y_pred)\n",
        "\n",
        "plt.figure(figsize=(6,4))\n",
        "sns.heatmap(cm, annot=True, fmt=\"d\", cmap=\"Blues\", xticklabels=y_test.unique(), yticklabels=y_test.unique())\n",
        "plt.xlabel(\"Predicted\")\n",
        "plt.ylabel(\"Actual\")\n",
        "plt.title(\"Confusion Matrix - Random Forest\")\n",
        "plt.show()"
      ],
      "metadata": {
        "colab": {
          "base_uri": "https://localhost:8080/",
          "height": 465
        },
        "id": "MARmqJlJrSEL",
        "outputId": "739c5d73-1d08-48a6-a850-c6556793a83a"
      },
      "execution_count": null,
      "outputs": [
        {
          "output_type": "stream",
          "name": "stderr",
          "text": [
            "/usr/local/lib/python3.12/dist-packages/sklearn/utils/validation.py:2732: UserWarning: X has feature names, but RandomForestClassifier was fitted without feature names\n",
            "  warnings.warn(\n"
          ]
        },
        {
          "output_type": "display_data",
          "data": {
            "text/plain": [
              "<Figure size 600x400 with 2 Axes>"
            ],
            "image/png": "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\n"
          },
          "metadata": {}
        }
      ]
    },
    {
      "cell_type": "code",
      "source": [
        "import numpy as np\n",
        "import matplotlib.pyplot as plt # Import pyplot here\n",
        "\n",
        "importances = rf.feature_importances_\n",
        "indices = np.argsort(importances)[::-1]\n",
        "\n",
        "plt.figure(figsize=(8,6))\n",
        "plt.title(\"Feature Importance - Random Forest\")\n",
        "plt.bar(range(10), importances[indices][:10], align=\"center\")\n",
        "plt.xticks(range(10), [X.columns[i] for i in indices[:10]], rotation=90) # Use X.columns to get feature names\n",
        "plt.show()"
      ],
      "metadata": {
        "colab": {
          "base_uri": "https://localhost:8080/",
          "height": 682
        },
        "id": "ZRVvxlwvrq_N",
        "outputId": "8cc527a9-3236-4ebf-c626-1291dd5f6214"
      },
      "execution_count": null,
      "outputs": [
        {
          "output_type": "display_data",
          "data": {
            "text/plain": [
              "<Figure size 800x600 with 1 Axes>"
            ],
            "image/png": "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\n"
          },
          "metadata": {}
        }
      ]
    }
  
